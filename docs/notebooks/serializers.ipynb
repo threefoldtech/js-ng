{
 "nbformat": 4,
 "nbformat_minor": 2,
 "metadata": {
  "language_info": {
   "name": "python",
   "codemirror_mode": {
    "name": "ipython",
    "version": 3
   }
  },
  "orig_nbformat": 2,
  "file_extension": ".py",
  "mimetype": "text/x-python",
  "name": "python",
  "npconvert_exporter": "python",
  "pygments_lexer": "ipython3",
  "version": 3
 },
 "cells": [
  {
   "cell_type": "code",
   "execution_count": null,
   "metadata": {},
   "outputs": [],
   "source": [
    "from jumpscale.god import j\n"
   ]
  },
  {
   "cell_type": "code",
   "execution_count": null,
   "metadata": {},
   "outputs": [],
   "source": [
    "j.data.serializers.base64.encode(\"omar\")\n"
   ]
  },
  {
   "cell_type": "code",
   "execution_count": null,
   "metadata": {},
   "outputs": [],
   "source": [
    "j.data.serializers.base64.encode(b\"omar\")"
   ]
  },
  {
   "cell_type": "code",
   "execution_count": null,
   "metadata": {},
   "outputs": [],
   "source": [
    "j.data.serializers.pickle.compress(b\"omar\")"
   ]
  },
  {
   "cell_type": "code",
   "execution_count": null,
   "metadata": {},
   "outputs": [],
   "source": [
    "import pickle\n",
    "obj = pickle.dumps(b\"omar\")\n",
    "j.data.serializers.pickle.decompress(b'\\x80\\x03C\\x04omarq\\x00.')\n",
    "\n"
   ]
  },
  {
   "cell_type": "code",
   "execution_count": null,
   "metadata": {},
   "outputs": [],
   "source": [
    "jsonstr = \"\"\"{\n",
    "        \"firstName\": \"John\",\n",
    "        \"lastName\": \"Smith\",\n",
    "        \"address\": {\n",
    "            \"streetAddress\": \"21 2nd Street\",\n",
    "            \"city\": \"New York\",\n",
    "            \"state\": \"NY\",\n",
    "            \"postalCode\": 10021\n",
    "        },\n",
    "        \"phoneNumbers\": [\n",
    "            \"212 555-1234\",\n",
    "            \"646 555-4567\"\n",
    "        ]\n",
    "    }\n",
    "    \"\"\"\n",
    "j.data.serializers.json.loads(jsonstr)"
   ]
  },
  {
   "cell_type": "code",
   "execution_count": null,
   "metadata": {},
   "outputs": [],
   "source": [
    "j.data.serializers.lzma.compress(b\"omar\")   "
   ]
  },
  {
   "cell_type": "code",
   "execution_count": null,
   "metadata": {},
   "outputs": [],
   "source": [
    "import pylzma\n",
    "obj = pylzma.compress(b\"omar\")\n",
    "j.data.serializers.lzma.decompress(obj)\n"
   ]
  },
  {
   "cell_type": "code",
   "execution_count": null,
   "metadata": {},
   "outputs": [],
   "source": [
    "j.data.serializers.msgpack.dumps(b\"omar\")"
   ]
  },
  {
   "cell_type": "code",
   "execution_count": null,
   "metadata": {},
   "outputs": [],
   "source": [
    "import msgpack\n",
    "obj = msgpack.packb(b\"omar\", use_bin_type=True)\n",
    "j.data.serializers.msgpack.loads(obj)"
   ]
  },
  {
   "cell_type": "code",
   "execution_count": null,
   "metadata": {},
   "outputs": [],
   "source": [
    "tomlstr = \"\"\"title = \"config\"\n",
    "   [feature1]\n",
    "   enable = true\n",
    "   userids = [\n",
    "     \"12345\", \"67890\"\n",
    "   ]\n",
    "   \n",
    "   [feature2]\n",
    "   enable = false\n",
    "   \"\"\"\n",
    "j.data.serializers.toml.loads(tomlstr)"
   ]
  },
  {
   "cell_type": "code",
   "execution_count": null,
   "metadata": {},
   "outputs": [],
   "source": []
  }
 ]
}