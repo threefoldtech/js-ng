{
 "nbformat": 4,
 "nbformat_minor": 2,
 "metadata": {
  "language_info": {
   "name": "python",
   "codemirror_mode": {
    "name": "ipython",
    "version": 3
   }
  },
  "orig_nbformat": 2,
  "file_extension": ".py",
  "mimetype": "text/x-python",
  "name": "python",
  "npconvert_exporter": "python",
  "pygments_lexer": "ipython3",
  "version": 3
 },
 "cells": [
  {
   "cell_type": "code",
   "execution_count": null,
   "metadata": {},
   "outputs": [],
   "source": [
    "from jumpscale.god import j"
   ]
  },
  {
   "cell_type": "code",
   "execution_count": null,
   "metadata": {},
   "outputs": [],
   "source": [
    "definition = \"\"\"\n",
    "    @url = despiegk.test\n",
    "    llist = []\n",
    "    llist2 = \"\" (LS) #L means = list, S=String\n",
    "    llist3 = [1,2,3] (LF)\n",
    "    &nr = 4\n",
    "    obj = (O)!7mada.test\n",
    "    date_start = 0 (I)\n",
    "    description* = \"hello world\"        \n",
    "    description2 ** = 'creature asd\"asd ,xzc'(S)\n",
    "    llist4*** = [1,2,3] (LI)\n",
    "    llist5 = [1,2,3] (LI)\n",
    "    llist6 = [1,2,3] (LI)\n",
    "    U = 0.0\n",
    "    nrdefault = 0\n",
    "    nrdefault2 = (I)\n",
    "    nrdefault3 = 0 (I)\n",
    "    \"\"\"\n",
    "    schema = j.data.schema.parse_schema(definition)"
   ]
  },
  {
   "cell_type": "code",
   "execution_count": null,
   "metadata": {},
   "outputs": [],
   "source": [
    "schema.url"
   ]
  }
 ]
}